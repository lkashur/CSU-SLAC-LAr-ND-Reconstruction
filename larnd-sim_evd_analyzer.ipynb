{
 "cells": [
  {
   "cell_type": "code",
   "execution_count": null,
   "id": "9760e7a4",
   "metadata": {},
   "outputs": [],
   "source": [
    "# imports\n",
    "import h5py"
   ]
  },
  {
   "cell_type": "code",
   "execution_count": null,
   "id": "b97ed572",
   "metadata": {},
   "outputs": [],
   "source": [
    "# load h5 file\n",
    "evdFile = 'larnd-sim_scripts/larndsim_electrons_evd.h5' # replace with your evd file\n",
    "evdF = h5py.File(evdFile)\n",
    "\n",
    "# get file info\n",
    "events = evdF['events']\n",
    "hits = evdF['hits']\n",
    "tracks = evdF['tracks']\n",
    "\n",
    "eventList = []\n",
    "\n",
    "# loop through events\n",
    "for i, ev in enumerate(events):\n",
    "    \n",
    "    eventDict = {}\n",
    "    \n",
    "    # create references\n",
    "    hit_ref = ev['hit_ref']\n",
    "    track_ref = ev['track_ref']\n",
    "    \n",
    "    # get event ID\n",
    "    eventDict['eventID'] = ev['evid']\n",
    "    \n",
    "    # place x,y,z information from each event into dict\n",
    "    eventDict['x'] = hits[hit_ref]['px'] # in mm\n",
    "    eventDict['y'] = hits[hit_ref]['py'] # in mm \n",
    "    eventDict['z'] = hits[hit_ref]['ts'] - ev['ts_start'] # in 0.1 us\n",
    "    eventList.append(eventDict)"
   ]
  },
  {
   "cell_type": "code",
   "execution_count": null,
   "id": "9b6fad40",
   "metadata": {},
   "outputs": [],
   "source": [
    "# perform analysis here\n",
    "eventList"
   ]
  }
 ],
 "metadata": {
  "kernelspec": {
   "display_name": "Python 3",
   "language": "python",
   "name": "python3"
  },
  "language_info": {
   "codemirror_mode": {
    "name": "ipython",
    "version": 3
   },
   "file_extension": ".py",
   "mimetype": "text/x-python",
   "name": "python",
   "nbconvert_exporter": "python",
   "pygments_lexer": "ipython3",
   "version": "3.8.5"
  }
 },
 "nbformat": 4,
 "nbformat_minor": 5
}
